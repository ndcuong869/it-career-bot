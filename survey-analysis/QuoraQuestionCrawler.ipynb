{
 "cells": [
  {
   "cell_type": "code",
   "execution_count": 8,
   "metadata": {},
   "outputs": [],
   "source": [
    "# Import necessary packages and modules\n",
    "\n",
    "from selenium import webdriver\n",
    "from urllib.parse import quote\n",
    "from selenium.webdriver.common.keys import Keys\n",
    "import bs4\n",
    "import time\n",
    "import pandas as pd\n",
    "\n",
    "base_url = 'https://www.quora.com/search?q='\n",
    "\n",
    "# Define type question for each tag\n",
    "question_parameters = [\n",
    "    {\n",
    "        'tag': 'web developer',\n",
    "        'questions': [\n",
    "            'how to become a web developer',\n",
    "            'how to become a front end developer',\n",
    "            'how to become a front-end developer',\n",
    "            'how to become a back end developer',\n",
    "            'how to become a back-end developer',\n",
    "            'how to become a full stack developer',\n",
    "            'how to become a full-stack developer',\n",
    "            'what required skills for web developer',\n",
    "            'what required skills for front end developer',\n",
    "            'what required skills for web development',\n",
    "            'what required skills for front-end developer',\n",
    "            'what required skills for back-end developer',\n",
    "            'what required skills for full-stack developer'\n",
    "        ]\n",
    "    },\n",
    "    {\n",
    "        'tag': 'data science',\n",
    "        'questions': [\n",
    "            'how to become a data science',\n",
    "            'how to become a data analysis',\n",
    "            'how to become a data engineering',\n",
    "            'how to become a data scientist'\n",
    "        ]\n",
    "    },\n",
    "    {\n",
    "        'tag': 'mobile developer',\n",
    "        'questions': [\n",
    "            'how to become a android developer',\n",
    "            'how to become a ios developer',\n",
    "            'how to become a mobile developer',\n",
    "            'how to become a software developer',\n",
    "        ]\n",
    "    }\n",
    "]\n",
    "\n",
    "    \n",
    "for item in question_parameters:\n",
    "    urls = []\n",
    "    for q in item['questions']:\n",
    "        urls.append(base_url + quote(q) + '&type=question')\n",
    "    item['urls'] = urls\n",
    "    \n",
    "\n",
    "questions = []\n",
    "question_tags = []\n",
    "\n",
    "for item in selected_question:\n",
    "    for url in item['urls']:\n",
    "        count = 0\n",
    "        driver = webdriver.Firefox(executable_path='C:\\\\Users\\\\ndcuo\\\\Downloads\\\\geckodriver-v0.28.0-win64\\\\geckodriver.exe')\n",
    "        driver.get(url)\n",
    "\n",
    "        while True:\n",
    "            driver.execute_script(\"window.scrollTo(0, document.body.scrollHeight);\")\n",
    "            time.sleep(2)\n",
    "            data = driver.page_source\n",
    "            web_page = bs4.BeautifulSoup(data, \"lxml\")\n",
    "            count = count + 1\n",
    "            len_current = len(list(web_page.find_all(name='span', attrs={'class': 'ui_qtext_rendered_qtext'})))\n",
    "            error = len(web_page.find_all(name='div', attrs={'class': 'q-box qu-borderBottom qu-p--medium'}))\n",
    "            if len(web_page.find_all(name='div', attrs={'class': 'results_empty p1 row light'})) > 0 or error > 0:\n",
    "                break\n",
    "\n",
    "        for content in web_page.find_all(name='span', attrs={'class': 'ui_qtext_rendered_qtext'}):\n",
    "            questions.append(content.text)\n",
    "            question_tags.append(item['tag'])\n",
    "        driver.close()"
   ]
  },
  {
   "cell_type": "code",
   "execution_count": 10,
   "metadata": {},
   "outputs": [
    {
     "data": {
      "text/plain": [
       "web developer    3373\n",
       "data science     2041\n",
       "Name: tag, dtype: int64"
      ]
     },
     "execution_count": 10,
     "metadata": {},
     "output_type": "execute_result"
    }
   ],
   "source": [
    "question_df = pd.DataFrame()\n",
    "question_df['question'] = questions\n",
    "question_df['tag'] = question_tags\n",
    "question_df.tag.value_counts()"
   ]
  },
  {
   "cell_type": "code",
   "execution_count": 2,
   "metadata": {},
   "outputs": [
    {
     "data": {
      "text/plain": [
       "(1011, 1)"
      ]
     },
     "execution_count": 2,
     "metadata": {},
     "output_type": "execute_result"
    }
   ],
   "source": [
    "question_df = pd.DataFrame(questions)\n",
    "question_df.columns = ['question']\n",
    "question_df.shape"
   ]
  },
  {
   "cell_type": "code",
   "execution_count": 5,
   "metadata": {},
   "outputs": [
    {
     "name": "stdout",
     "output_type": "stream",
     "text": [
      "Chemical Engineering education in the US, like all engineering disciplines, is accredited by ABET standards organization (look it up). If you want an engineering job right out of a four year degree education then you will 98% need an Engineering degree from a school that is ABET certified. \n",
      "----------------------------------------------------------------------------------------------------\n",
      "Basic rule is the more non-academic jobs there are for the major the better the chances of an academic job. This is because fewer people will get a phd when they can easily get employment and there will be more students to teach chasing those jobs. So business, especially accounting and finance and \n",
      "----------------------------------------------------------------------------------------------------\n",
      "What can I do with a Biotech degree? I got into this major my sophomore year and since I have grown more interested in forensics and pharmacy. Im in my 5th year now and I don't want to switch majors, do you think I can get a job in either fields? \n",
      "----------------------------------------------------------------------------------------------------\n",
      "Which is the best degree computer science or data science if I want to study a major in AI? \n",
      "----------------------------------------------------------------------------------------------------\n",
      "Work experience is useful-not necessarily “business” or finance. My undergrad degree is electrical engineering. After 15 years of working for the US Government decided to get an MBA. Having little background in accounting and other business related courses first got a two-year business degree at a l \n",
      "----------------------------------------------------------------------------------------------------\n",
      "That depends on what you want to do for a living. However, I can see definite advantages to having the double major. You could become a consultant to businesses working to improve the environmental quality of their business something that is becoming increasingly popular. Some businesses are even st \n",
      "----------------------------------------------------------------------------------------------------\n",
      "My degrees are in math, political science, business, and law. I’ve made almost all of my money in software and tech. Universities know that many incoming students are still trying to choose a path. I’d suggest talking to an academic advisor rather than listening to random Quora posters. But look at it \n",
      "----------------------------------------------------------------------------------------------------\n",
      "What kind of math is needed for a computer science major? \n",
      "----------------------------------------------------------------------------------------------------\n",
      "If you are only in 9th grade, it is far soon to worry about your college major. You usually don’t pick a major until your second year of college. As you take courses in high school and especially college, you will develop interests and a sense of your academic strengths. Many majors in college are i \n",
      "----------------------------------------------------------------------------------------------------\n",
      "Wow, it seems a very useful college major to me, living in a tourist town. My first job was with Sheraton, in the home office but exposed to lots of management positions. I would think an associates degree with really practical courses would be a ticket to a lot of jobs around hotels and restaurants \n",
      "----------------------------------------------------------------------------------------------------\n",
      "What minor should I do (accounting major) given my interests? \n",
      "----------------------------------------------------------------------------------------------------\n",
      "What's the best niche college major with a good starting pay scale after graduating? \n",
      "----------------------------------------------------------------------------------------------------\n",
      "Ten minutes after accountants realized they could hire at 25 and fire at 50 to save $1 million per employee in family pension commitments, sustainable capitalism and employment started to die. Today, 130-million Americans live below Blue Collar levels at Starvation and Slave wages. You support this \n",
      "----------------------------------------------------------------------------------------------------\n",
      "Go for the hardest major and Network yourself better. Most comp science jobs are high paying but markets are shifting real fast. Jobs are getting outsourced more than any other industry. 5G, IOT and Blockchain will increase companies to get more of there work outsourced, Not even that with the Advent o \n",
      "----------------------------------------------------------------------------------------------------\n",
      "What is the use of CS degree when we have a degree like computer engineering, most people at Quora says that a CE majors can do any thing CS majors do, then what is the advantage of going for a CS degree? (I feel disappointed for not choosing CE) \n",
      "----------------------------------------------------------------------------------------------------\n",
      "I didn’t even know that was an option in this day and age. If you are willing to put in the extra work and you have considered the cost of debt from you schooling, then I say yes. If the extra years in school will put you into too much debt, just pick biology. You can always work on Neuroscience as \n",
      "----------------------------------------------------------------------------------------------------\n",
      "I have good knowledge in economics, half of the upper division courses in a business economics major. And I have experience in data science in graduate school, but was discontinued. I have a math major and computer science minor below that. My advice, a graduate who has not yet applied this knowledg \n",
      "----------------------------------------------------------------------------------------------------\n",
      "Why do some students go to college and study a major that they just know is not marketable? \n",
      "----------------------------------------------------------------------------------------------------\n",
      "There are a few English language universities in Japan, such as International Christian University, Doshisha University, and Nagoya University. Otherwise you must know Japanese to a high level. As for studying English literature in Japan, that seems somewhat odd. You can do it, of course, but instru \n",
      "----------------------------------------------------------------------------------------------------\n",
      "I want to double major in Communications and Political Science, would this look good for Law School? \n",
      "----------------------------------------------------------------------------------------------------\n"
     ]
    }
   ],
   "source": [
    "for q in question_df.sample(n=20).question:\n",
    "    print(q)\n",
    "    print('-'*100)"
   ]
  },
  {
   "cell_type": "code",
   "execution_count": 46,
   "metadata": {},
   "outputs": [],
   "source": [
    "question_list = web_page.find_all(name='span', attrs={'class': 'q-box qu-userSelect--text'})\n",
    "\n",
    "questions = []\n",
    "for item in question_list:\n",
    "    questions.append(item.text)\n",
    "    question_tags.append('data science')"
   ]
  },
  {
   "cell_type": "code",
   "execution_count": 49,
   "metadata": {},
   "outputs": [
    {
     "data": {
      "text/plain": [
       "data science    313\n",
       "Name: tag, dtype: int64"
      ]
     },
     "execution_count": 49,
     "metadata": {},
     "output_type": "execute_result"
    }
   ],
   "source": [
    "question_df = pd.DataFrame()\n",
    "question_df['question'] = questions\n",
    "question_df['tag'] = question_tags\n",
    "question_df.tag.value_counts()"
   ]
  },
  {
   "cell_type": "code",
   "execution_count": 50,
   "metadata": {},
   "outputs": [],
   "source": [
    "question_df.to_csv('20210127_questions.csv')"
   ]
  },
  {
   "cell_type": "code",
   "execution_count": null,
   "metadata": {},
   "outputs": [],
   "source": []
  }
 ],
 "metadata": {
  "kernelspec": {
   "display_name": "Python 3",
   "language": "python",
   "name": "python3"
  },
  "language_info": {
   "codemirror_mode": {
    "name": "ipython",
    "version": 3
   },
   "file_extension": ".py",
   "mimetype": "text/x-python",
   "name": "python",
   "nbconvert_exporter": "python",
   "pygments_lexer": "ipython3",
   "version": "3.7.6"
  }
 },
 "nbformat": 4,
 "nbformat_minor": 4
}
