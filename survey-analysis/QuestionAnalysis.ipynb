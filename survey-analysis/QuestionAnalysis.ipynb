{
 "cells": [
  {
   "cell_type": "code",
   "execution_count": 1,
   "metadata": {},
   "outputs": [],
   "source": [
    "# import module\n",
    "import pandas as pd\n",
    "import numpy as np\n",
    "import matplotlib.pyplot as plt\n",
    "\n",
    "import re\n",
    "from nltk import ngrams\n",
    "from nltk import word_tokenize\n",
    "from nltk.stem import WordNetLemmatizer\n",
    "from nltk.corpus import wordnet\n",
    "from nltk import pos_tag\n",
    "from sklearn.feature_extraction.text import TfidfTransformer\n",
    "from sklearn.feature_extraction.text import TfidfVectorizer\n",
    "from collections import Counter\n",
    "from nltk.corpus import stopwords\n",
    "from string import punctuation"
   ]
  },
  {
   "cell_type": "code",
   "execution_count": 22,
   "metadata": {},
   "outputs": [
    {
     "name": "stderr",
     "output_type": "stream",
     "text": [
      "[nltk_data] Downloading package stopwords to\n",
      "[nltk_data]     C:\\Users\\ndcuo\\AppData\\Roaming\\nltk_data...\n",
      "[nltk_data]   Unzipping corpora\\stopwords.zip.\n"
     ]
    },
    {
     "data": {
      "text/plain": [
       "True"
      ]
     },
     "execution_count": 22,
     "metadata": {},
     "output_type": "execute_result"
    }
   ],
   "source": [
    "# Download and install NLP pre-built packages.\n",
    "#import nltk\n",
    "#nltk.download('punkt')\n",
    "#nltk.download('averaged_perceptron_tagger')\n",
    "#nltk.download('wordnet')\n",
    "#nltk.download('stopwords')"
   ]
  },
  {
   "cell_type": "code",
   "execution_count": 2,
   "metadata": {},
   "outputs": [
    {
     "data": {
      "text/plain": [
       "((2860, 9), (94, 2))"
      ]
     },
     "execution_count": 2,
     "metadata": {},
     "output_type": "execute_result"
    }
   ],
   "source": [
    "# Load data from flat files\n",
    "train_df = pd.read_csv('question_cleaned.csv')\n",
    "tech_df = pd.read_csv('TechnologyKB.csv')\n",
    "train_df = train_df[train_df.is_domain == 1]\n",
    "\n",
    "train_df.shape, tech_df.shape"
   ]
  },
  {
   "cell_type": "markdown",
   "metadata": {},
   "source": [
    "### N-grams"
   ]
  },
  {
   "cell_type": "code",
   "execution_count": 11,
   "metadata": {},
   "outputs": [],
   "source": [
    "wordnet_lemmatizer = WordNetLemmatizer()\n",
    "\n",
    "def get_wordnet_pos(word):\n",
    "    tag = pos_tag([word])[0][1][0].upper()\n",
    "    tag_dict = {\"J\": wordnet.ADJ,\n",
    "                \"N\": wordnet.NOUN,\n",
    "                \"V\": wordnet.VERB,\n",
    "                \"R\": wordnet.ADV}\n",
    "\n",
    "    return tag_dict.get(tag, wordnet.NOUN)\n",
    "\n",
    "ngrams_list = {}\n",
    "\n",
    "for i in range(1, 6):\n",
    "    ngrams_list[i] = []\n",
    "    cond = (train_df.tag == 'data science')\n",
    "    for q in train_df[cond].question:\n",
    "        word_list = word_tokenize(q.lower())\n",
    "        word_list = [wordnet_lemmatizer.lemmatize(x, pos=get_wordnet_pos(x)) for x in word_list]\n",
    "        ngrams_list[i].extend([' '.join(grams) for grams in ngrams(word_list, n=i)])  "
   ]
  },
  {
   "cell_type": "code",
   "execution_count": 12,
   "metadata": {},
   "outputs": [
    {
     "data": {
      "text/plain": [
       "(9736, 2)"
      ]
     },
     "execution_count": 12,
     "metadata": {},
     "output_type": "execute_result"
    }
   ],
   "source": [
    "counter = Counter(ngrams_list[3])\n",
    "\n",
    "ngram_df = pd.DataFrame(list(counter.items()))\n",
    "ngram_df.columns = ['value', 'count']\n",
    "ngram_df.shape"
   ]
  },
  {
   "cell_type": "code",
   "execution_count": 13,
   "metadata": {},
   "outputs": [
    {
     "data": {
      "text/html": [
       "<div>\n",
       "<style scoped>\n",
       "    .dataframe tbody tr th:only-of-type {\n",
       "        vertical-align: middle;\n",
       "    }\n",
       "\n",
       "    .dataframe tbody tr th {\n",
       "        vertical-align: top;\n",
       "    }\n",
       "\n",
       "    .dataframe thead th {\n",
       "        text-align: right;\n",
       "    }\n",
       "</style>\n",
       "<table border=\"1\" class=\"dataframe\">\n",
       "  <thead>\n",
       "    <tr style=\"text-align: right;\">\n",
       "      <th></th>\n",
       "      <th>value</th>\n",
       "      <th>count</th>\n",
       "      <th>is_stopword</th>\n",
       "    </tr>\n",
       "  </thead>\n",
       "  <tbody>\n",
       "    <tr>\n",
       "      <th>2350</th>\n",
       "      <td>machine learn engineer</td>\n",
       "      <td>28</td>\n",
       "      <td>0</td>\n",
       "    </tr>\n",
       "    <tr>\n",
       "      <th>631</th>\n",
       "      <td>become data scientist</td>\n",
       "      <td>21</td>\n",
       "      <td>0</td>\n",
       "    </tr>\n",
       "    <tr>\n",
       "      <th>943</th>\n",
       "      <td>learn data science</td>\n",
       "      <td>18</td>\n",
       "      <td>0</td>\n",
       "    </tr>\n",
       "    <tr>\n",
       "      <th>2164</th>\n",
       "      <td>big data engineer</td>\n",
       "      <td>14</td>\n",
       "      <td>0</td>\n",
       "    </tr>\n",
       "    <tr>\n",
       "      <th>47</th>\n",
       "      <td>good data scientist</td>\n",
       "      <td>12</td>\n",
       "      <td>0</td>\n",
       "    </tr>\n",
       "    <tr>\n",
       "      <th>1369</th>\n",
       "      <td>data science become</td>\n",
       "      <td>8</td>\n",
       "      <td>0</td>\n",
       "    </tr>\n",
       "    <tr>\n",
       "      <th>1349</th>\n",
       "      <td>computer science engineering</td>\n",
       "      <td>8</td>\n",
       "      <td>0</td>\n",
       "    </tr>\n",
       "    <tr>\n",
       "      <th>2109</th>\n",
       "      <td>data science field</td>\n",
       "      <td>6</td>\n",
       "      <td>0</td>\n",
       "    </tr>\n",
       "    <tr>\n",
       "      <th>868</th>\n",
       "      <td>data science course</td>\n",
       "      <td>6</td>\n",
       "      <td>0</td>\n",
       "    </tr>\n",
       "    <tr>\n",
       "      <th>5</th>\n",
       "      <td>data scientist without</td>\n",
       "      <td>6</td>\n",
       "      <td>0</td>\n",
       "    </tr>\n",
       "  </tbody>\n",
       "</table>\n",
       "</div>"
      ],
      "text/plain": [
       "                             value  count  is_stopword\n",
       "2350        machine learn engineer     28            0\n",
       "631          become data scientist     21            0\n",
       "943             learn data science     18            0\n",
       "2164             big data engineer     14            0\n",
       "47             good data scientist     12            0\n",
       "1369           data science become      8            0\n",
       "1349  computer science engineering      8            0\n",
       "2109            data science field      6            0\n",
       "868            data science course      6            0\n",
       "5           data scientist without      6            0"
      ]
     },
     "execution_count": 13,
     "metadata": {},
     "output_type": "execute_result"
    }
   ],
   "source": [
    "def is_stopword(item):\n",
    "    for word in stopwords.words('english'):\n",
    "        if word in item.split(' '):\n",
    "            return 1\n",
    "        \n",
    "    for p in punctuation:\n",
    "        if p in item:\n",
    "            return 2\n",
    "        \n",
    "    return 0\n",
    "\n",
    "ngram_df['is_stopword'] = ngram_df['value'].map(is_stopword)\n",
    "ngram_df[ngram_df.is_stopword == 0].sort_values(by=['count'], ascending=False)[0:10]"
   ]
  },
  {
   "cell_type": "code",
   "execution_count": 14,
   "metadata": {},
   "outputs": [],
   "source": [
    "ngram_df[ngram_df.is_stopword == 0].sort_values(by=['count'], ascending=False)[[\"value\", \"count\"]].to_csv('data-science-n-grams.csv', index=False, sep=\";\")"
   ]
  },
  {
   "cell_type": "code",
   "execution_count": null,
   "metadata": {},
   "outputs": [],
   "source": [
    "def is_stopword(item):\n",
    "    for word in stopwords.words('english'):\n",
    "        if word in item.split(' '):\n",
    "            return 1\n",
    "        \n",
    "    for p in punctuation:\n",
    "        if p in item:\n",
    "            return 2\n",
    "        \n",
    "    return 0\n",
    "\n",
    "ngram_df['is_stopword'] = ngram_df['value'].map(is_stopword)"
   ]
  },
  {
   "cell_type": "code",
   "execution_count": 7,
   "metadata": {},
   "outputs": [
    {
     "data": {
      "text/html": [
       "<div>\n",
       "<style scoped>\n",
       "    .dataframe tbody tr th:only-of-type {\n",
       "        vertical-align: middle;\n",
       "    }\n",
       "\n",
       "    .dataframe tbody tr th {\n",
       "        vertical-align: top;\n",
       "    }\n",
       "\n",
       "    .dataframe thead th {\n",
       "        text-align: right;\n",
       "    }\n",
       "</style>\n",
       "<table border=\"1\" class=\"dataframe\">\n",
       "  <thead>\n",
       "    <tr style=\"text-align: right;\">\n",
       "      <th></th>\n",
       "      <th>value</th>\n",
       "      <th>count</th>\n",
       "      <th>is_stopword</th>\n",
       "    </tr>\n",
       "  </thead>\n",
       "  <tbody>\n",
       "    <tr>\n",
       "      <th>5</th>\n",
       "      <td>data scientist</td>\n",
       "      <td>450</td>\n",
       "      <td>0</td>\n",
       "    </tr>\n",
       "    <tr>\n",
       "      <th>52</th>\n",
       "      <td>data science</td>\n",
       "      <td>278</td>\n",
       "      <td>0</td>\n",
       "    </tr>\n",
       "    <tr>\n",
       "      <th>936</th>\n",
       "      <td>data engineer</td>\n",
       "      <td>119</td>\n",
       "      <td>0</td>\n",
       "    </tr>\n",
       "    <tr>\n",
       "      <th>375</th>\n",
       "      <td>computer science</td>\n",
       "      <td>90</td>\n",
       "      <td>0</td>\n",
       "    </tr>\n",
       "    <tr>\n",
       "      <th>808</th>\n",
       "      <td>data analysis</td>\n",
       "      <td>72</td>\n",
       "      <td>0</td>\n",
       "    </tr>\n",
       "    <tr>\n",
       "      <th>19</th>\n",
       "      <td>data analyst</td>\n",
       "      <td>71</td>\n",
       "      <td>0</td>\n",
       "    </tr>\n",
       "    <tr>\n",
       "      <th>292</th>\n",
       "      <td>machine learn</td>\n",
       "      <td>51</td>\n",
       "      <td>0</td>\n",
       "    </tr>\n",
       "    <tr>\n",
       "      <th>1060</th>\n",
       "      <td>software engineer</td>\n",
       "      <td>46</td>\n",
       "      <td>0</td>\n",
       "    </tr>\n",
       "    <tr>\n",
       "      <th>637</th>\n",
       "      <td>big data</td>\n",
       "      <td>34</td>\n",
       "      <td>0</td>\n",
       "    </tr>\n",
       "    <tr>\n",
       "      <th>534</th>\n",
       "      <td>become data</td>\n",
       "      <td>34</td>\n",
       "      <td>0</td>\n",
       "    </tr>\n",
       "  </tbody>\n",
       "</table>\n",
       "</div>"
      ],
      "text/plain": [
       "                  value  count  is_stopword\n",
       "5        data scientist    450            0\n",
       "52         data science    278            0\n",
       "936       data engineer    119            0\n",
       "375    computer science     90            0\n",
       "808       data analysis     72            0\n",
       "19         data analyst     71            0\n",
       "292       machine learn     51            0\n",
       "1060  software engineer     46            0\n",
       "637            big data     34            0\n",
       "534         become data     34            0"
      ]
     },
     "execution_count": 7,
     "metadata": {},
     "output_type": "execute_result"
    }
   ],
   "source": [
    "ngram_df[ngram_df.is_stopword == 0].sort_values(by=['count'], ascending=False)[0:10]"
   ]
  },
  {
   "cell_type": "markdown",
   "metadata": {},
   "source": [
    "### Tf-idf"
   ]
  },
  {
   "cell_type": "code",
   "execution_count": 15,
   "metadata": {},
   "outputs": [
    {
     "data": {
      "text/html": [
       "<div>\n",
       "<style scoped>\n",
       "    .dataframe tbody tr th:only-of-type {\n",
       "        vertical-align: middle;\n",
       "    }\n",
       "\n",
       "    .dataframe tbody tr th {\n",
       "        vertical-align: top;\n",
       "    }\n",
       "\n",
       "    .dataframe thead th {\n",
       "        text-align: right;\n",
       "    }\n",
       "</style>\n",
       "<table border=\"1\" class=\"dataframe\">\n",
       "  <thead>\n",
       "    <tr style=\"text-align: right;\">\n",
       "      <th></th>\n",
       "      <th>question</th>\n",
       "      <th>tag</th>\n",
       "      <th>length</th>\n",
       "      <th>is_question</th>\n",
       "      <th>is_tech</th>\n",
       "      <th>is_job</th>\n",
       "      <th>group</th>\n",
       "      <th>count_techs</th>\n",
       "      <th>is_domain</th>\n",
       "    </tr>\n",
       "  </thead>\n",
       "  <tbody>\n",
       "    <tr>\n",
       "      <th>0</th>\n",
       "      <td>How do I become a freelance web designer and d...</td>\n",
       "      <td>web developer</td>\n",
       "      <td>176</td>\n",
       "      <td>1</td>\n",
       "      <td>1</td>\n",
       "      <td>1</td>\n",
       "      <td>1</td>\n",
       "      <td>4</td>\n",
       "      <td>1</td>\n",
       "    </tr>\n",
       "    <tr>\n",
       "      <th>1</th>\n",
       "      <td>What programming languages should I learn for ...</td>\n",
       "      <td>web developer</td>\n",
       "      <td>135</td>\n",
       "      <td>1</td>\n",
       "      <td>1</td>\n",
       "      <td>1</td>\n",
       "      <td>1</td>\n",
       "      <td>1</td>\n",
       "      <td>1</td>\n",
       "    </tr>\n",
       "    <tr>\n",
       "      <th>2</th>\n",
       "      <td>How do I become good freelancer as a web devel...</td>\n",
       "      <td>web developer</td>\n",
       "      <td>51</td>\n",
       "      <td>1</td>\n",
       "      <td>1</td>\n",
       "      <td>1</td>\n",
       "      <td>0</td>\n",
       "      <td>1</td>\n",
       "      <td>1</td>\n",
       "    </tr>\n",
       "    <tr>\n",
       "      <th>3</th>\n",
       "      <td>What are the good ways to learn to become the ...</td>\n",
       "      <td>web developer</td>\n",
       "      <td>65</td>\n",
       "      <td>1</td>\n",
       "      <td>1</td>\n",
       "      <td>1</td>\n",
       "      <td>0</td>\n",
       "      <td>1</td>\n",
       "      <td>1</td>\n",
       "    </tr>\n",
       "    <tr>\n",
       "      <th>4</th>\n",
       "      <td>How do I learn PHP web development as quickly ...</td>\n",
       "      <td>web developer</td>\n",
       "      <td>88</td>\n",
       "      <td>1</td>\n",
       "      <td>1</td>\n",
       "      <td>1</td>\n",
       "      <td>0</td>\n",
       "      <td>1</td>\n",
       "      <td>1</td>\n",
       "    </tr>\n",
       "  </tbody>\n",
       "</table>\n",
       "</div>"
      ],
      "text/plain": [
       "                                            question            tag  length  \\\n",
       "0  How do I become a freelance web designer and d...  web developer     176   \n",
       "1  What programming languages should I learn for ...  web developer     135   \n",
       "2  How do I become good freelancer as a web devel...  web developer      51   \n",
       "3  What are the good ways to learn to become the ...  web developer      65   \n",
       "4  How do I learn PHP web development as quickly ...  web developer      88   \n",
       "\n",
       "   is_question  is_tech  is_job  group  count_techs  is_domain  \n",
       "0            1        1       1      1            4          1  \n",
       "1            1        1       1      1            1          1  \n",
       "2            1        1       1      0            1          1  \n",
       "3            1        1       1      0            1          1  \n",
       "4            1        1       1      0            1          1  "
      ]
     },
     "execution_count": 15,
     "metadata": {},
     "output_type": "execute_result"
    }
   ],
   "source": [
    "train_df.head()"
   ]
  },
  {
   "cell_type": "code",
   "execution_count": 16,
   "metadata": {},
   "outputs": [],
   "source": [
    "keywords_len = {}\n",
    "for tag in ['web developer', 'mobile developer', 'data science']:\n",
    "    cond = train_df.tag == tag\n",
    "    dataset = list(train_df[cond].question)\n",
    "    tfIdfVectorizer=TfidfVectorizer(use_idf=True, ngram_range=(3, 3), stop_words=None, lowercase=True)\n",
    "    tfIdf = tfIdfVectorizer.fit_transform(dataset)\n",
    "    keywords_len[tag] = []\n",
    "    for alpha in np.arange(0.1, 1.5, 0.1):\n",
    "        keywords = []\n",
    "        for i in range(len(dataset)):\n",
    "            df = pd.DataFrame()\n",
    "            df['word'] = tfIdfVectorizer.get_feature_names()\n",
    "            df['TF-IDF'] = tfIdf[i].T.todense()\n",
    "            df = df.sort_values('TF-IDF', ascending=False)\n",
    "            for j in df.index:\n",
    "                if df['TF-IDF'][j] > alpha:\n",
    "                    keywords.append(df['word'][j])\n",
    "                else:\n",
    "                    break\n",
    "\n",
    "        keywords_len[tag].append(len(keywords))"
   ]
  },
  {
   "cell_type": "code",
   "execution_count": 17,
   "metadata": {},
   "outputs": [],
   "source": [
    "keyword_df = pd.DataFrame()\n",
    "keyword_df['web_keywords'] = keywords_len['web developer']\n",
    "keyword_df['mobile_keywords'] = keywords_len['mobile developer']\n",
    "keyword_df['data_keywords'] = keywords_len['data science']\n",
    "keyword_df.index = list(np.arange(0.1, 1.5, 0.1))"
   ]
  },
  {
   "cell_type": "code",
   "execution_count": 39,
   "metadata": {},
   "outputs": [],
   "source": [
    "keywords = []\n",
    "df_total = pd.DataFrame()\n",
    "values = []\n",
    "cond = train_df.tag == 'mobile developer'\n",
    "dataset = list(train_df[cond].question)\n",
    "tfIdfVectorizer=TfidfVectorizer(use_idf=True, ngram_range=(3, 3), stop_words=None, lowercase=True)\n",
    "tfIdf = tfIdfVectorizer.fit_transform(dataset)\n",
    "for i in range(len(dataset)):\n",
    "    df = pd.DataFrame()\n",
    "    df['word'] = tfIdfVectorizer.get_feature_names()\n",
    "    df['TF-IDF'] = tfIdf[i].T.todense()\n",
    "    df = df.sort_values('TF-IDF', ascending=False)\n",
    "    for j in df.index:\n",
    "        if df['TF-IDF'][j] > 0.5:\n",
    "            keywords.append(df['word'][j])\n",
    "            values.append(df['TF-IDF'][j])\n",
    "        else:\n",
    "            break\n",
    "df_total['word'] = keywords\n",
    "df_total['TF-IDF'] = values"
   ]
  },
  {
   "cell_type": "code",
   "execution_count": 40,
   "metadata": {},
   "outputs": [
    {
     "data": {
      "text/plain": [
       "113"
      ]
     },
     "execution_count": 40,
     "metadata": {},
     "output_type": "execute_result"
    }
   ],
   "source": [
    "len(keywords)"
   ]
  },
  {
   "cell_type": "code",
   "execution_count": 41,
   "metadata": {},
   "outputs": [
    {
     "data": {
      "text/plain": [
       "['how to become',\n",
       " 'can become better',\n",
       " 'better android developer',\n",
       " 'become better android',\n",
       " 'can become good',\n",
       " 'good android developer',\n",
       " 'become good android',\n",
       " 'do become professional',\n",
       " 'can become android',\n",
       " 'become android developer',\n",
       " 'do become great',\n",
       " 'great android developer',\n",
       " 'become great android',\n",
       " 'smart android developer',\n",
       " 'should become smart',\n",
       " 'become smart android',\n",
       " 'class android developer',\n",
       " 'world class android',\n",
       " 'do become junior',\n",
       " 'become junior android',\n",
       " 'junior android developer',\n",
       " 'you become successful',\n",
       " 'can become pro',\n",
       " 'become pro in',\n",
       " 'pro in android',\n",
       " 'can become google',\n",
       " 'kickass android developer',\n",
       " 'become kickass android',\n",
       " 'can become kickass',\n",
       " 'do you become',\n",
       " 'you become an',\n",
       " 'how do you',\n",
       " 'can become ninja',\n",
       " 'become ninja android',\n",
       " 'ninja android developer',\n",
       " 'can learn to',\n",
       " 'android developer associate',\n",
       " 'developer in 2018',\n",
       " 'app developer programmer',\n",
       " 'successful android application',\n",
       " 'can become successful',\n",
       " 'successful android app',\n",
       " 'good android app',\n",
       " 'can become good',\n",
       " 'developer from nothing',\n",
       " 'an android application',\n",
       " 'android application developer',\n",
       " 'android studio developer',\n",
       " 'an android studio',\n",
       " 'in two months',\n",
       " 'developer in two',\n",
       " 'developer good option',\n",
       " 'android developer good',\n",
       " 'becoming android developer',\n",
       " 'worth becoming android',\n",
       " 'an android 2019',\n",
       " 'android 2019 developer',\n",
       " 'should learn to',\n",
       " 'what should learn',\n",
       " 'what should read',\n",
       " 'worth becoming an',\n",
       " 'it worth becoming',\n",
       " 'after bca course',\n",
       " 'developer after bca',\n",
       " 'or javascript developer',\n",
       " 'android or javascript',\n",
       " 'developer in month',\n",
       " 'developer within 30',\n",
       " 'within 30 days',\n",
       " 'what does it',\n",
       " 'android game app',\n",
       " 'it hard to',\n",
       " 'is it hard',\n",
       " 'hard to become',\n",
       " 'android developer where',\n",
       " 'developer where should',\n",
       " 'what does it',\n",
       " 'world class ios',\n",
       " 'class ios developer',\n",
       " 'how become professional',\n",
       " 'become professional ios',\n",
       " 'professional ios developer',\n",
       " 'expert ios developer',\n",
       " 'an expert ios',\n",
       " 'become master in',\n",
       " 'master in ios',\n",
       " 'do become master',\n",
       " 'how did you',\n",
       " 'you become an',\n",
       " 'did you become',\n",
       " 'should become an',\n",
       " 'has ios development',\n",
       " 'ios development become',\n",
       " 'development become stagnant',\n",
       " 'can become mobile',\n",
       " 'become mobile developer',\n",
       " 'motivates people to',\n",
       " 'people to become',\n",
       " 'what motivates people',\n",
       " 'developer without degree',\n",
       " 'become better mobile',\n",
       " 'better mobile developer',\n",
       " 'can become better',\n",
       " 'become sap mobile',\n",
       " 'sap mobile developer',\n",
       " 'can become sap',\n",
       " 'developer from home',\n",
       " 'become an effective',\n",
       " 'an effective mobile',\n",
       " 'effective mobile developer',\n",
       " 'can web developer',\n",
       " 'developer become mobile',\n",
       " 'web developer become']"
      ]
     },
     "execution_count": 41,
     "metadata": {},
     "output_type": "execute_result"
    }
   ],
   "source": [
    "keywords[0:225]"
   ]
  },
  {
   "cell_type": "code",
   "execution_count": 36,
   "metadata": {},
   "outputs": [
    {
     "data": {
      "text/plain": [
       "[]"
      ]
     },
     "execution_count": 36,
     "metadata": {},
     "output_type": "execute_result"
    }
   ],
   "source": [
    "keywords[225:]"
   ]
  },
  {
   "cell_type": "code",
   "execution_count": 42,
   "metadata": {},
   "outputs": [],
   "source": [
    "df_total.to_csv(\"mobile-developer-tf-idf.csv\", index=False)"
   ]
  },
  {
   "cell_type": "code",
   "execution_count": 75,
   "metadata": {},
   "outputs": [
    {
     "data": {
      "text/plain": [
       "web developer       1324\n",
       "data science         833\n",
       "mobile developer     703\n",
       "Name: tag, dtype: int64"
      ]
     },
     "execution_count": 75,
     "metadata": {},
     "output_type": "execute_result"
    }
   ],
   "source": [
    "train_df.tag.value_counts()"
   ]
  },
  {
   "cell_type": "code",
   "execution_count": 87,
   "metadata": {},
   "outputs": [],
   "source": [
    "def detect_platform(text):\n",
    "    platform_list = ['web', 'android', 'ios']\n",
    "    for item in platform_list:\n",
    "        if item in text.lower():\n",
    "            return item\n",
    "        \n",
    "    return \"None\"\n",
    "\n",
    "def detect_career(text):\n",
    "    career_list = ['data scientist', 'developer', 'data science', \"data analyst\", \"data engineer\", \"development\", \\\n",
    "                  'data analysis']\n",
    "    for item in career_list:\n",
    "        if item in text.lower():\n",
    "            return item\n",
    "        \n",
    "    return \"None\"\n",
    "\n",
    "tech_count = {}\n",
    "for item in tech_df['technology name']:\n",
    "    if '+' in item:\n",
    "            item = item.replace('+', '\\+')\n",
    "    tech_count[item] = 0\n",
    "\n",
    "def detect_technologies(text):\n",
    "    count = 0\n",
    "    #condition = (tech_df.type != 'platform')\n",
    "    for item in tech_df.loc[:, 'technology name']:\n",
    "        if '+' in item:\n",
    "            item = item.replace('+', '\\+')\n",
    "        pattern = ' ' + item.lower() + '[ |,|.|?]'\n",
    "        if len(re.findall(pattern, text.lower())) > 0:\n",
    "            count = count + 1\n",
    "            tech_count[item] = tech_count[item] + 1\n",
    "    return count\n",
    "\n",
    "def question_mark(text):\n",
    "    question_list = ['why', 'which', 'what', 'where', 'when', 'how', 'is', 'do', 'does', 'are', 'can', 'could', 'should']\n",
    "    for item in question_list:\n",
    "        if item in text.lower():\n",
    "            return item\n",
    "    return \"None\"\n",
    "\n",
    "train_df['platform'] = train_df.question.map(detect_platform)\n",
    "train_df['career'] = train_df.question.map(detect_career)\n",
    "train_df['technology'] = train_df.question.map(detect_technologies)\n",
    "train_df['question_wh'] = train_df.question.map(question_mark)"
   ]
  },
  {
   "cell_type": "code",
   "execution_count": 88,
   "metadata": {},
   "outputs": [
    {
     "data": {
      "text/html": [
       "<div>\n",
       "<style scoped>\n",
       "    .dataframe tbody tr th:only-of-type {\n",
       "        vertical-align: middle;\n",
       "    }\n",
       "\n",
       "    .dataframe tbody tr th {\n",
       "        vertical-align: top;\n",
       "    }\n",
       "\n",
       "    .dataframe thead th {\n",
       "        text-align: right;\n",
       "    }\n",
       "</style>\n",
       "<table border=\"1\" class=\"dataframe\">\n",
       "  <thead>\n",
       "    <tr style=\"text-align: right;\">\n",
       "      <th></th>\n",
       "      <th>technology</th>\n",
       "      <th>count</th>\n",
       "    </tr>\n",
       "  </thead>\n",
       "  <tbody>\n",
       "    <tr>\n",
       "      <th>81</th>\n",
       "      <td>android</td>\n",
       "      <td>473</td>\n",
       "    </tr>\n",
       "    <tr>\n",
       "      <th>87</th>\n",
       "      <td>ios</td>\n",
       "      <td>205</td>\n",
       "    </tr>\n",
       "    <tr>\n",
       "      <th>5</th>\n",
       "      <td>Java</td>\n",
       "      <td>133</td>\n",
       "    </tr>\n",
       "    <tr>\n",
       "      <th>0</th>\n",
       "      <td>Javascript</td>\n",
       "      <td>109</td>\n",
       "    </tr>\n",
       "    <tr>\n",
       "      <th>4</th>\n",
       "      <td>Python</td>\n",
       "      <td>105</td>\n",
       "    </tr>\n",
       "  </tbody>\n",
       "</table>\n",
       "</div>"
      ],
      "text/plain": [
       "    technology  count\n",
       "81     android    473\n",
       "87         ios    205\n",
       "5         Java    133\n",
       "0   Javascript    109\n",
       "4       Python    105"
      ]
     },
     "execution_count": 88,
     "metadata": {},
     "output_type": "execute_result"
    }
   ],
   "source": [
    "tech_count_df = pd.DataFrame(tech_count.items(), columns=['technology', 'count'])\n",
    "tech_count_df.sort_values(by=['count'], ascending=False).head(5)"
   ]
  },
  {
   "cell_type": "code",
   "execution_count": 95,
   "metadata": {},
   "outputs": [
    {
     "data": {
      "text/plain": [
       "0    62.342657\n",
       "1    26.153846\n",
       "2     7.377622\n",
       "3     2.237762\n",
       "4     1.083916\n",
       "5     0.489510\n",
       "7     0.174825\n",
       "6     0.104895\n",
       "8     0.034965\n",
       "Name: technology, dtype: float64"
      ]
     },
     "execution_count": 95,
     "metadata": {},
     "output_type": "execute_result"
    }
   ],
   "source": [
    "train_df.technology.value_counts() / train_df.shape[0] * 100"
   ]
  },
  {
   "cell_type": "code",
   "execution_count": 93,
   "metadata": {},
   "outputs": [
    {
     "data": {
      "text/plain": [
       "118"
      ]
     },
     "execution_count": 93,
     "metadata": {},
     "output_type": "execute_result"
    }
   ],
   "source": [
    "train_df.shape[0] - 1783 - 748 - 211"
   ]
  },
  {
   "cell_type": "code",
   "execution_count": 96,
   "metadata": {},
   "outputs": [
    {
     "data": {
      "text/html": [
       "<div>\n",
       "<style scoped>\n",
       "    .dataframe tbody tr th:only-of-type {\n",
       "        vertical-align: middle;\n",
       "    }\n",
       "\n",
       "    .dataframe tbody tr th {\n",
       "        vertical-align: top;\n",
       "    }\n",
       "\n",
       "    .dataframe thead th {\n",
       "        text-align: right;\n",
       "    }\n",
       "</style>\n",
       "<table border=\"1\" class=\"dataframe\">\n",
       "  <thead>\n",
       "    <tr style=\"text-align: right;\">\n",
       "      <th></th>\n",
       "      <th>technology</th>\n",
       "      <th>count</th>\n",
       "      <th>percent</th>\n",
       "    </tr>\n",
       "  </thead>\n",
       "  <tbody>\n",
       "    <tr>\n",
       "      <th>81</th>\n",
       "      <td>android</td>\n",
       "      <td>473</td>\n",
       "      <td>0.292517</td>\n",
       "    </tr>\n",
       "    <tr>\n",
       "      <th>87</th>\n",
       "      <td>ios</td>\n",
       "      <td>205</td>\n",
       "      <td>0.126778</td>\n",
       "    </tr>\n",
       "    <tr>\n",
       "      <th>5</th>\n",
       "      <td>Java</td>\n",
       "      <td>133</td>\n",
       "      <td>0.082251</td>\n",
       "    </tr>\n",
       "    <tr>\n",
       "      <th>0</th>\n",
       "      <td>Javascript</td>\n",
       "      <td>109</td>\n",
       "      <td>0.067409</td>\n",
       "    </tr>\n",
       "    <tr>\n",
       "      <th>4</th>\n",
       "      <td>Python</td>\n",
       "      <td>105</td>\n",
       "      <td>0.064935</td>\n",
       "    </tr>\n",
       "  </tbody>\n",
       "</table>\n",
       "</div>"
      ],
      "text/plain": [
       "    technology  count   percent\n",
       "81     android    473  0.292517\n",
       "87         ios    205  0.126778\n",
       "5         Java    133  0.082251\n",
       "0   Javascript    109  0.067409\n",
       "4       Python    105  0.064935"
      ]
     },
     "execution_count": 96,
     "metadata": {},
     "output_type": "execute_result"
    }
   ],
   "source": [
    "tech_count_df['percent'] = tech_count_df['count'] / tech_count_df['count'].sum()\n",
    "tech_count_df.sort_values(by=['count'], ascending=False).head(5)"
   ]
  },
  {
   "cell_type": "code",
   "execution_count": 90,
   "metadata": {},
   "outputs": [
    {
     "data": {
      "text/plain": [
       "developer         1795\n",
       "data scientist     461\n",
       "development        191\n",
       "data science       173\n",
       "data engineer       95\n",
       "data analyst        60\n",
       "data analysis       45\n",
       "None                40\n",
       "Name: career, dtype: int64"
      ]
     },
     "execution_count": 90,
     "metadata": {},
     "output_type": "execute_result"
    }
   ],
   "source": [
    "train_df.career.value_counts()"
   ]
  },
  {
   "cell_type": "code",
   "execution_count": 33,
   "metadata": {},
   "outputs": [
    {
     "data": {
      "text/plain": [
       "539"
      ]
     },
     "execution_count": 33,
     "metadata": {},
     "output_type": "execute_result"
    }
   ],
   "source": [
    "(334 + 89 + 51 + 36 + 24 + 5)"
   ]
  },
  {
   "cell_type": "code",
   "execution_count": 34,
   "metadata": {},
   "outputs": [
    {
     "data": {
      "text/plain": [
       "(2860, 13)"
      ]
     },
     "execution_count": 34,
     "metadata": {},
     "output_type": "execute_result"
    }
   ],
   "source": [
    "train_df.shape"
   ]
  },
  {
   "cell_type": "code",
   "execution_count": 30,
   "metadata": {},
   "outputs": [
    {
     "data": {
      "text/plain": [
       "how       1041\n",
       "what       931\n",
       "is         334\n",
       "which      189\n",
       "can         89\n",
       "where       57\n",
       "do          51\n",
       "why         42\n",
       "should      36\n",
       "None        34\n",
       "when        27\n",
       "are         24\n",
       "could        5\n",
       "Name: question_wh, dtype: int64"
      ]
     },
     "execution_count": 30,
     "metadata": {},
     "output_type": "execute_result"
    }
   ],
   "source": [
    "train_df.question_wh.value_counts()"
   ]
  },
  {
   "cell_type": "code",
   "execution_count": 35,
   "metadata": {},
   "outputs": [
    {
     "data": {
      "text/plain": [
       "how       36.398601\n",
       "what      32.552448\n",
       "is        11.678322\n",
       "which      6.608392\n",
       "can        3.111888\n",
       "where      1.993007\n",
       "do         1.783217\n",
       "why        1.468531\n",
       "should     1.258741\n",
       "None       1.188811\n",
       "when       0.944056\n",
       "are        0.839161\n",
       "could      0.174825\n",
       "Name: question_wh, dtype: float64"
      ]
     },
     "execution_count": 35,
     "metadata": {},
     "output_type": "execute_result"
    }
   ],
   "source": [
    "train_df.question_wh.value_counts() / train_df.shape[0] * 100"
   ]
  },
  {
   "cell_type": "code",
   "execution_count": 40,
   "metadata": {},
   "outputs": [
    {
     "name": "stdout",
     "output_type": "stream",
     "text": [
      "Can I still become a data scientist even when I have a commerce background?\n",
      "----------------------------------------------------------------------------------------------------\n",
      "How much front-end knowledge should I possess when studying to become a back-end developer?\n",
      "----------------------------------------------------------------------------------------------------\n",
      "Will mobile development become not as well paid in the future, when there will be much more mobile developers than there are web developers?\n",
      "----------------------------------------------------------------------------------------------------\n",
      "When studying to become a front end web developer, how important is it to gain knowledge of everything vs focusing on gaining a deep knowledge in one aspect of front end development?\n",
      "----------------------------------------------------------------------------------------------------\n",
      "When will Kotlin become more popular than Java for Android development?\n",
      "----------------------------------------------------------------------------------------------------\n"
     ]
    }
   ],
   "source": [
    "for q in train_df[train_df.question_wh == 'when'].sample(n=5).question:\n",
    "    print(q)\n",
    "    print('-'*100)"
   ]
  },
  {
   "cell_type": "markdown",
   "metadata": {},
   "source": [
    "### Survey on how question"
   ]
  },
  {
   "cell_type": "code",
   "execution_count": 41,
   "metadata": {},
   "outputs": [
    {
     "name": "stderr",
     "output_type": "stream",
     "text": [
      "<ipython-input-41-55ee183bc166>:30: SettingWithCopyWarning: \n",
      "A value is trying to be set on a copy of a slice from a DataFrame.\n",
      "Try using .loc[row_indexer,col_indexer] = value instead\n",
      "\n",
      "See the caveats in the documentation: https://pandas.pydata.org/pandas-docs/stable/user_guide/indexing.html#returning-a-view-versus-a-copy\n",
      "  how_df['pattern'] = how_df.question.map(assign_pattern)\n"
     ]
    }
   ],
   "source": [
    "import re\n",
    "how_df = train_df[train_df.question_wh == 'how']\n",
    "\n",
    "pattern_list = [\n",
    "    'how become ',\n",
    "    'how (do|does) (i|you|one) (become|becoming|be|get)',\n",
    "    'how (can|could) (i|you|one) (become|becoming|be)',\n",
    "    'how (can|could) (i|you|one) (change|transition|turn into)',\n",
    "    'how (can|could) (i|you|one) work',\n",
    "    'how (should) (i|you|one) (become|becoming|be)',\n",
    "    'how (can|could|do|should) (i|you|one) (study|learn|start|get started|proceed to learn)',\n",
    "    'how much (time|hours)',\n",
    "    'how many (days|years|hours)',\n",
    "    'how many',\n",
    "    'how long',\n",
    "    'how .* (job|jobs).*',\n",
    "    'how (can|could) i .* (become|becoming|be)',\n",
    "    'how .* (become|becoming|be) .*',\n",
    "    'how .* (skill|skills).*',\n",
    "    '(i|you|one) (want|would like|trying) to become'\n",
    "]\n",
    "\n",
    "def assign_pattern(q):\n",
    "    for i, pattern in enumerate(pattern_list):\n",
    "        if re.search(pattern, q.lower()):\n",
    "            return pattern\n",
    "        \n",
    "    return \"None\"\n",
    "          \n",
    "how_df['pattern'] = how_df.question.map(assign_pattern)"
   ]
  },
  {
   "cell_type": "code",
   "execution_count": 42,
   "metadata": {},
   "outputs": [
    {
     "data": {
      "text/plain": [
       "how (do|does) (i|you|one) (become|becoming|be|get)                                        290\n",
       "how (can|could) (i|you|one) (become|becoming|be)                                          234\n",
       "how .* (become|becoming|be) .*                                                            229\n",
       "how long                                                                                   68\n",
       "how (can|could|do|should) (i|you|one) (study|learn|start|get started|proceed to learn)     50\n",
       "None                                                                                       50\n",
       "how much (time|hours)                                                                      35\n",
       "how (can|could) i .* (become|becoming|be)                                                  20\n",
       "how many (days|years|hours)                                                                16\n",
       "how many                                                                                   14\n",
       "how .* (job|jobs).*                                                                        13\n",
       "(i|you|one) (want|would like|trying) to become                                              8\n",
       "how (should) (i|you|one) (become|becoming|be)                                               5\n",
       "how .* (skill|skills).*                                                                     3\n",
       "how (can|could) (i|you|one) (change|transition|turn into)                                   3\n",
       "how (can|could) (i|you|one) work                                                            2\n",
       "how become                                                                                  1\n",
       "Name: pattern, dtype: int64"
      ]
     },
     "execution_count": 42,
     "metadata": {},
     "output_type": "execute_result"
    }
   ],
   "source": [
    "how_df.pattern.value_counts()"
   ]
  },
  {
   "cell_type": "code",
   "execution_count": 62,
   "metadata": {},
   "outputs": [
    {
     "data": {
      "text/plain": [
       "146"
      ]
     },
     "execution_count": 62,
     "metadata": {},
     "output_type": "execute_result"
    }
   ],
   "source": [
    "68 + 35 + 16 + 14 + 13"
   ]
  },
  {
   "cell_type": "code",
   "execution_count": 63,
   "metadata": {},
   "outputs": [
    {
     "data": {
      "text/plain": [
       "895"
      ]
     },
     "execution_count": 63,
     "metadata": {},
     "output_type": "execute_result"
    }
   ],
   "source": [
    "how_df.shape[0] - 146"
   ]
  },
  {
   "cell_type": "code",
   "execution_count": 292,
   "metadata": {},
   "outputs": [
    {
     "name": "stdout",
     "output_type": "stream",
     "text": [
      "I have a bachelor's degree in the humanities. How many hours might it take for me to learn enough programming languages to become a web developer, network administrator, or programmer?\n",
      "----------------------------------------------------------------------------------------------------\n",
      "I'm new to data science. I can spend one hour on data science daily. By how many months can I become a freelancer?\n",
      "----------------------------------------------------------------------------------------------------\n",
      "How many years does it take to become a professional in data analysis?\n",
      "----------------------------------------------------------------------------------------------------\n",
      "How many years did you study to become a mobile app developer?\n",
      "----------------------------------------------------------------------------------------------------\n",
      "How many languages will I have to learn to be a web developer?\n",
      "----------------------------------------------------------------------------------------------------\n"
     ]
    }
   ],
   "source": [
    "for q in how_df[how_df.pattern == \"how many\"].sample(n=5).question:\n",
    "    print(q)\n",
    "    print('-'*100)"
   ]
  },
  {
   "cell_type": "markdown",
   "metadata": {},
   "source": [
    "### Survey on what question"
   ]
  },
  {
   "cell_type": "code",
   "execution_count": 44,
   "metadata": {},
   "outputs": [
    {
     "name": "stderr",
     "output_type": "stream",
     "text": [
      "<ipython-input-44-e1601379c862>:24: SettingWithCopyWarning: \n",
      "A value is trying to be set on a copy of a slice from a DataFrame.\n",
      "Try using .loc[row_indexer,col_indexer] = value instead\n",
      "\n",
      "See the caveats in the documentation: https://pandas.pydata.org/pandas-docs/stable/user_guide/indexing.html#returning-a-view-versus-a-copy\n",
      "  what_df['pattern'] = what_df.question.map(assign_pattern)\n"
     ]
    }
   ],
   "source": [
    "what_df = train_df[train_df.question_wh == 'what']\n",
    "\n",
    "pattern_list = [\n",
    "    'what .* (skills|skill) .*',\n",
    "    'what (skill|skills)',\n",
    "    'what .* (resource|resources)',\n",
    "    'what different',\n",
    "    'what .* (routine|path|way|route)',\n",
    "    'what (is|are)',\n",
    "    'what (do|does)',\n",
    "    'what (can|could|should)',\n",
    "    'what (programs|courses|skills|topics|programming languages|technologies|languages)',\n",
    "    'what .* (job|jobs)',\n",
    "    'what .* or .*'\n",
    "]\n",
    "\n",
    "def assign_pattern(q):\n",
    "    for i, pattern in enumerate(pattern_list):\n",
    "        if re.search(pattern, q.lower()):\n",
    "            return pattern\n",
    "        \n",
    "    return \"None\"\n",
    "          \n",
    "what_df['pattern'] = what_df.question.map(assign_pattern)"
   ]
  },
  {
   "cell_type": "code",
   "execution_count": 84,
   "metadata": {},
   "outputs": [
    {
     "data": {
      "text/plain": [
       "0.005944055944055944"
      ]
     },
     "execution_count": 84,
     "metadata": {},
     "output_type": "execute_result"
    }
   ],
   "source": [
    "17 / train_df.shape[0]"
   ]
  },
  {
   "cell_type": "code",
   "execution_count": 86,
   "metadata": {},
   "outputs": [
    {
     "data": {
      "text/plain": [
       "(2860, 13)"
      ]
     },
     "execution_count": 86,
     "metadata": {},
     "output_type": "execute_result"
    }
   ],
   "source": [
    "train_df.shape"
   ]
  },
  {
   "cell_type": "code",
   "execution_count": 85,
   "metadata": {},
   "outputs": [
    {
     "data": {
      "text/plain": [
       "99.99999999999999"
      ]
     },
     "execution_count": 85,
     "metadata": {},
     "output_type": "execute_result"
    }
   ],
   "source": [
    "83.4 + 5.1 + 4.7 + 2.3 + 1.6 + 1.5 + 0.8 + 0.6"
   ]
  },
  {
   "cell_type": "code",
   "execution_count": 56,
   "metadata": {},
   "outputs": [
    {
     "data": {
      "text/plain": [
       "what (is|are)                                                                         267\n",
       "None                                                                                  167\n",
       "what (can|could|should)                                                               113\n",
       "what .* (skills|skill) .*                                                             107\n",
       "what .* (routine|path|way|route)                                                       93\n",
       "what (do|does)                                                                         50\n",
       "what (programs|courses|skills|topics|programming languages|technologies|languages)     43\n",
       "what (skill|skills)                                                                    40\n",
       "what .* or .*                                                                          24\n",
       "what .* (resource|resources)                                                           20\n",
       "what .* (job|jobs)                                                                      6\n",
       "what different                                                                          1\n",
       "Name: pattern, dtype: int64"
      ]
     },
     "execution_count": 56,
     "metadata": {},
     "output_type": "execute_result"
    }
   ],
   "source": [
    "what_df.pattern.value_counts()"
   ]
  },
  {
   "cell_type": "code",
   "execution_count": null,
   "metadata": {},
   "outputs": [],
   "source": [
    "what_df.shape[0] - (107 + 40) - 45 - "
   ]
  },
  {
   "cell_type": "code",
   "execution_count": 61,
   "metadata": {},
   "outputs": [
    {
     "name": "stdout",
     "output_type": "stream",
     "text": [
      "What are the activities that can help me to become a complete full stack developer?\n",
      "----------------------------------------------------------------------------------------------------\n",
      "What is the road map to become an employable back end junior developer in 3months?\n",
      "----------------------------------------------------------------------------------------------------\n",
      "What is a good Android tutorial that allows us to develop a full-fledged Android app?\n",
      "----------------------------------------------------------------------------------------------------\n",
      "Do I need to learn VMware/AWS, Or Google Cloud Service to become a back-end developer? If so, what is the method to learn it quickly?\n",
      "----------------------------------------------------------------------------------------------------\n",
      "Can a mechanical engineer become a data scientist? What is the scope of data scientists?\n",
      "----------------------------------------------------------------------------------------------------\n"
     ]
    }
   ],
   "source": [
    "for q in what_df[what_df.pattern == \"what (is|are)\"].sample(n=5).question:\n",
    "    print(q)\n",
    "    print('-'*100)"
   ]
  },
  {
   "cell_type": "code",
   "execution_count": 86,
   "metadata": {},
   "outputs": [],
   "source": [
    "    condition = (tech_df.type != 'platform')\n",
    "    for item in tech_df.loc[condition, 'technology name']:\n",
    "        if '+' in item:\n",
    "            item = item.replace('+', '\\+')\n",
    "        pattern = ' ' + item.lower() + '[ |,|.|?]'\n",
    "        if len(re.findall(pattern, 'Should I go for a MSc Data Science or MSc Computer Science to become a Data Scientist, after my BSc Physics?')) > 0:\n",
    "            print(item)"
   ]
  },
  {
   "cell_type": "code",
   "execution_count": 87,
   "metadata": {},
   "outputs": [
    {
     "name": "stdout",
     "output_type": "stream",
     "text": [
      "How many hours/days does it take to become efficient enough with Swift in order to develop your own iOS app?\n",
      "----------------------------------------------------------------------------------------------------\n",
      "Is there a way of developing iOS for free?\n",
      "----------------------------------------------------------------------------------------------------\n",
      "Should I learn Java or Kotlin in order to develop Android apps?\n",
      "----------------------------------------------------------------------------------------------------\n",
      "Is it useful to develop skills to become a 'full stack software engineer'?\n",
      "----------------------------------------------------------------------------------------------------\n",
      "With Apple's Swift becoming open source later this year, does that mean owning a Mac is no longer a prerequisite for developing for iOS?\n",
      "----------------------------------------------------------------------------------------------------\n",
      "What are the Android/iOS apps that are developed by a single person and managed to become popular?\n",
      "----------------------------------------------------------------------------------------------------\n",
      "How do I get started learning iOS programming with Swift?\n",
      "----------------------------------------------------------------------------------------------------\n",
      "How do I develop android mobile apps without strong coding basic knowledge?\n",
      "----------------------------------------------------------------------------------------------------\n",
      "Can developing iOS apps or Android apps become a good side business in India?\n",
      "----------------------------------------------------------------------------------------------------\n",
      "Will Blazor and C# become the main technology used to develop front-end applications?\n",
      "----------------------------------------------------------------------------------------------------\n",
      "Does the new iOS 6 Maps feature directions and/or turn-by-turn navigation for bicycling?\n",
      "----------------------------------------------------------------------------------------------------\n",
      "Where and how can I develop my programming skills in Java, Python and maybe JavaScript with (X) HTML(5) to become a more 'well-rounded' programmer/ full stack programmer?\n",
      "----------------------------------------------------------------------------------------------------\n",
      "What are the best emulators for Android?\n",
      "----------------------------------------------------------------------------------------------------\n",
      "What are important things to know before developing an application for the Android platform?\n",
      "----------------------------------------------------------------------------------------------------\n",
      "I started learning programming sometime ago and started with HTML & CSS, finally mastered both of them, now I started using Javascript and learning Javascript. In my learning path I came across Node.js a runtime environment for javascript which basically allows me to have my Html , Css and Javascript into the Node.js environment. Translate to react native and finish coding the whole thing and have a working Web, iOS and Android app. (Haven't done this yet but this is my small understanding about how all this works)\n",
      "\n",
      "Today I stumbled across Golang...\n",
      "\n",
      "Loved how simple Golang looks and how easier it is to read than Javascript. I read the differences and similarities , also some tutorials. Now for you Golangers (Gophers?) I have multiple questions.\n",
      "\n",
      "If I make my app in Golang how do I do the front end? Do I implement html and css? Do I do something else as a visual editor (like Adobe XD as a banal example) ? Do I use React to create the iOS,Android app? Can I use mongoDB(I assume yes as mongoldb was done on Golang, but I still rather ask)?\n",
      "\n",
      "How does the typical steps in creating an application look like in go?\n",
      "\n",
      "(Example as with Nodejs web app) 1.Create an Html and CSS UI 2.Add javascript for functionality of the app 3.run on node 4.import into React for iOS and Javascript 5.finish app and deploy\n",
      "\n",
      "Thank you very much in advance! Golang community seems like a much nicer community than Nodejs community in my opinion.\n",
      "\n",
      "Ps. Should I drop learning javascript and completely switch to Golang or finish learning Javascript and then learn Golang?\n",
      "----------------------------------------------------------------------------------------------------\n",
      "How do I become a professional free launcher with front-end developing?\n",
      "----------------------------------------------------------------------------------------------------\n",
      "How do you learn to develop iOS apps?\n",
      "----------------------------------------------------------------------------------------------------\n",
      "What skills should I learn to become an iOS/Android game programmer?\n",
      "----------------------------------------------------------------------------------------------------\n",
      "How many hours does it take to become productive and confident in developing and publishing real iOS apps by myself?\n",
      "----------------------------------------------------------------------------------------------------\n",
      "After the competition for front-end, what technologies should be learned for the back-end, Django or Node.js?\n",
      "----------------------------------------------------------------------------------------------------\n"
     ]
    }
   ],
   "source": [
    "for q in train_df[train_df.career == \"None\"].sample(n=20).question:\n",
    "    print(q)\n",
    "    print('-'*100)"
   ]
  },
  {
   "cell_type": "code",
   "execution_count": 103,
   "metadata": {},
   "outputs": [
    {
     "data": {
      "text/plain": [
       "<matplotlib.axes._subplots.AxesSubplot at 0x21d59fed220>"
      ]
     },
     "execution_count": 103,
     "metadata": {},
     "output_type": "execute_result"
    },
    {
     "data": {
      "image/png": "[encoded data removed]",
      "text/plain": [
       "<Figure size 1080x504 with 2 Axes>"
      ]
     },
     "metadata": {
      "needs_background": "light"
     },
     "output_type": "display_data"
    }
   ],
   "source": [
    "fig, ax = plt.subplots(figsize=[15, 7])\n",
    "sns.heatmap(pd.crosstab(index=train_df['question_wh'], columns=train_df['technology'], values=train_df['technology'], aggfunc='count'), annot=True)"
   ]
  },
  {
   "cell_type": "code",
   "execution_count": 298,
   "metadata": {},
   "outputs": [
    {
     "name": "stdout",
     "output_type": "stream",
     "text": [
      "What should a web developer know in 2020?\n",
      "----------------------------------------------------------------------------------------------------\n",
      "What are the basic skills required to get an internship in web development?\n",
      "----------------------------------------------------------------------------------------------------\n",
      "What skill is required to develop Android apps?\n",
      "----------------------------------------------------------------------------------------------------\n",
      "What specific skills should an iOS developer learn to become appealing to a greater number of companies, is it Android, cross-platform, PWAs, backend language/framework, AWS, Azure?\n",
      "----------------------------------------------------------------------------------------------------\n",
      "What are the best books for Android application development?\n",
      "----------------------------------------------------------------------------------------------------\n",
      "Should I try to become a red hat architect or go into Data analysis after graduation in India? What are the pros and cons for someone graduating from the CSE department?\n",
      "----------------------------------------------------------------------------------------------------\n",
      "What is the smartest way to become a mobile app developer as a web developer?\n",
      "----------------------------------------------------------------------------------------------------\n",
      "What are the technologies that I should learn to become a junior web development front-end? And how long it takes if I spend an average of 6 hours a day\n",
      "----------------------------------------------------------------------------------------------------\n",
      "How can an engineer in India apply for a master’s course abroad? What are the criteria for applying? Also what course should one pursue to become a data scientist?\n",
      "----------------------------------------------------------------------------------------------------\n",
      "I want to become proficient in data analysis, What is the best school program offerings in Canada?\n",
      "----------------------------------------------------------------------------------------------------\n",
      "I'm trying to become a self-taught web developer. How long does it take to get a job and be employable and what do I need to learn (just to get a job right now and be employable)?\n",
      "----------------------------------------------------------------------------------------------------\n",
      "What soft skills are needed to become a front-end developer?\n",
      "----------------------------------------------------------------------------------------------------\n",
      "What is the road map to become an Android developer as a B.Tech student?\n",
      "----------------------------------------------------------------------------------------------------\n",
      "What are the skills that I need to become a data scientist? What are the AWS products used in data science and can someone suggest relevant AWS online courses?\n",
      "----------------------------------------------------------------------------------------------------\n",
      "What's the most efficient path to becoming an Android developer with no programming experience?\n",
      "----------------------------------------------------------------------------------------------------\n",
      "I am interested in the field of data science what should be my learning path to become data scientist?\n",
      "----------------------------------------------------------------------------------------------------\n",
      "What things do I need to do in order to become an expert in front-end/UI development, so that I can land my dream job?\n",
      "----------------------------------------------------------------------------------------------------\n",
      "What’s wrong if I study industrial engineering as a start to become a data scientist? Could I add machine learning courses and programming as electives?\n",
      "----------------------------------------------------------------------------------------------------\n",
      "What are the different skills required to become a successful web developer, web designer, and web programmer?\n",
      "----------------------------------------------------------------------------------------------------\n",
      "What are the common skills for a full-stack developer?\n",
      "----------------------------------------------------------------------------------------------------\n"
     ]
    }
   ],
   "source": [
    "for q in train_df[train_df.question_wh == 'what'].sample(n=20).question:\n",
    "    print(q)\n",
    "    print('-'*100)"
   ]
  },
  {
   "cell_type": "code",
   "execution_count": 108,
   "metadata": {},
   "outputs": [
    {
     "name": "stdout",
     "output_type": "stream",
     "text": [
      "What level of competency in mathematics is required to become a web developer?\n",
      "----------------------------------------------------------------------------------------------------\n",
      "What are the qualities need to become a better front-end developer?\n",
      "----------------------------------------------------------------------------------------------------\n",
      "My friend says that the job of a web developer is going to be stagnant, in means of getting promotion, like becoming a team lead, and the other positions. I'm more into front end, though I also possess knowledge about PHP, SQL. I also have quite a knowledge about Java. What do I do?\n",
      "----------------------------------------------------------------------------------------------------\n",
      "Can I become a data analyst witha physics honours degree and no background in data analysis? What courses do I need to do? Where can I apply for jobs?\n",
      "----------------------------------------------------------------------------------------------------\n",
      "What are the challenges of becoming/being proficient at both iOS and Android development?\n",
      "----------------------------------------------------------------------------------------------------\n",
      "How much time do I need to become a good web developer? I bought Udemy courses (html, css, bootstrap javascript and php) but what do you think?\n",
      "----------------------------------------------------------------------------------------------------\n",
      "What languages are needed to learn when we want to become a back-end developer and from where can we learn it?\n",
      "----------------------------------------------------------------------------------------------------\n",
      "What are the skills required to get an entry-level web development job in Nepal?\n",
      "----------------------------------------------------------------------------------------------------\n",
      "If I want to become an Android developer in one month, what should I do?\n",
      "----------------------------------------------------------------------------------------------------\n",
      "What are the skills needed to become a data analyst? Is it good for a mechanical engineer graduate.\n",
      "----------------------------------------------------------------------------------------------------\n",
      "Working as SQL/PLSQL developer. Interested in Data side. How do I become Data engineer. What are the steps?\n",
      "----------------------------------------------------------------------------------------------------\n",
      "What should I learn to become a good full stack web developer?\n",
      "----------------------------------------------------------------------------------------------------\n",
      "What are the resources to become a well-rounded full stack developer?\n",
      "----------------------------------------------------------------------------------------------------\n",
      "What should I do to become a data scientist? I'm an electronics and communications engineering student entering my 3rd year from India. I have been doing these courses online so far.\n",
      "----------------------------------------------------------------------------------------------------\n",
      "I want to become a system software engineer and not a web developer or full stack developer. What are the courses of programming languages to study after doing a B.Tech in Computer Science and Engineering?\n",
      "----------------------------------------------------------------------------------------------------\n",
      "I want to become a back-end web developer in 2019. What do I need to know?\n",
      "----------------------------------------------------------------------------------------------------\n",
      "What was the learning path you took to become a web developer (front end, back end and full stack)?\n",
      "----------------------------------------------------------------------------------------------------\n",
      "What topics in Android are needed to be covered to become a complete Android developer? What are some other skills that you must have to be a high value asset for any company?\n",
      "----------------------------------------------------------------------------------------------------\n",
      "How did User-12139822535486601022 teach himself to become a full stack developer? What were his steps towards this goal? What resources did he use?\n",
      "----------------------------------------------------------------------------------------------------\n",
      "After an MCA, now I want to become web/UI designer or front end developer. What should I do, online course or join any local classes for technical design skills?\n",
      "----------------------------------------------------------------------------------------------------\n"
     ]
    }
   ],
   "source": [
    "from nltk import pos_tag\n",
    "\n",
    "for q in train_df[train_df.question_wh == 'what'].sample(n=20).question:\n",
    "    print(q)\n",
    "    print('-'*100)"
   ]
  },
  {
   "cell_type": "code",
   "execution_count": 104,
   "metadata": {},
   "outputs": [
    {
     "data": {
      "text/plain": [
       "[('What', 'WP'),\n",
       " ('is', 'VBZ'),\n",
       " ('the', 'DT'),\n",
       " ('fastest', 'JJS'),\n",
       " ('way', 'NN'),\n",
       " ('to', 'TO'),\n",
       " ('become', 'VB'),\n",
       " ('a', 'DT'),\n",
       " ('full-stack', 'JJ'),\n",
       " ('developer', 'NN'),\n",
       " ('in', 'IN'),\n",
       " ('2019', 'CD'),\n",
       " ('?', '.')]"
      ]
     },
     "execution_count": 104,
     "metadata": {},
     "output_type": "execute_result"
    }
   ],
   "source": [
    "pos_tag(word_tokenize('What is the fastest way to become a full-stack developer in 2019?'))"
   ]
  },
  {
   "cell_type": "code",
   "execution_count": 106,
   "metadata": {},
   "outputs": [
    {
     "name": "stdout",
     "output_type": "stream",
     "text": [
      "['how', 'what', 'who', 'when', 'where', 'which', 'that', 'why', '.what', 'years.what', 'wherever']\n"
     ]
    }
   ],
   "source": [
    "wh_list = []\n",
    "for q in train_df.question:\n",
    "    selected_list = ['WRB', 'WP', 'WDT', 'WP$']\n",
    "    tokens = pos_tag(word_tokenize(q))\n",
    "    for word, tag in tokens:\n",
    "        if tag in selected_list and word.lower() not in wh_list:\n",
    "            wh_list.append(word.lower())\n",
    "            \n",
    "print(wh_list)"
   ]
  },
  {
   "cell_type": "code",
   "execution_count": 86,
   "metadata": {},
   "outputs": [
    {
     "data": {
      "text/plain": [
       "1"
      ]
     },
     "execution_count": 86,
     "metadata": {},
     "output_type": "execute_result"
    }
   ],
   "source": [
    "count = 0\n",
    "for q in train_df.question:\n",
    "    if 'Treehouse' in q:\n",
    "        count = count + 1\n",
    "        \n",
    "count"
   ]
  },
  {
   "cell_type": "markdown",
   "metadata": {},
   "source": [
    "### Entity extraction"
   ]
  },
  {
   "cell_type": "code",
   "execution_count": 3,
   "metadata": {},
   "outputs": [],
   "source": [
    "import spacy\n",
    "\n",
    "nlp = spacy.load(\"en_core_web_sm\")"
   ]
  },
  {
   "cell_type": "code",
   "execution_count": 4,
   "metadata": {},
   "outputs": [],
   "source": [
    "word_list = []\n",
    "entities = []\n",
    "for q in train_df.question:\n",
    "    doc = nlp(q)\n",
    "\n",
    "    # Analyze syntax\n",
    "    word_list.extend([chunk.text for chunk in doc.noun_chunks])\n",
    "    #print(\"Verbs:\", [token.lemma_ for token in doc if token.pos_ == \"VERB\"])\n",
    "\n",
    "    # Find named entities, phrases and concepts\n",
    "    for entity in doc.ents:\n",
    "        #print(entity.text, entity.label_)\n",
    "        entities.append({\n",
    "            'text': entity.text,\n",
    "            'label': entity.label_\n",
    "        })"
   ]
  },
  {
   "cell_type": "code",
   "execution_count": 82,
   "metadata": {},
   "outputs": [
    {
     "data": {
      "text/html": [
       "<div>\n",
       "<style scoped>\n",
       "    .dataframe tbody tr th:only-of-type {\n",
       "        vertical-align: middle;\n",
       "    }\n",
       "\n",
       "    .dataframe tbody tr th {\n",
       "        vertical-align: top;\n",
       "    }\n",
       "\n",
       "    .dataframe thead th {\n",
       "        text-align: right;\n",
       "    }\n",
       "</style>\n",
       "<table border=\"1\" class=\"dataframe\">\n",
       "  <thead>\n",
       "    <tr style=\"text-align: right;\">\n",
       "      <th></th>\n",
       "      <th>text</th>\n",
       "      <th>fre</th>\n",
       "    </tr>\n",
       "  </thead>\n",
       "  <tbody>\n",
       "    <tr>\n",
       "      <th>0</th>\n",
       "      <td>i</td>\n",
       "      <td>705</td>\n",
       "    </tr>\n",
       "    <tr>\n",
       "      <th>1</th>\n",
       "      <td>a data scientist</td>\n",
       "      <td>356</td>\n",
       "    </tr>\n",
       "    <tr>\n",
       "      <th>2</th>\n",
       "      <td>college</td>\n",
       "      <td>6</td>\n",
       "    </tr>\n",
       "    <tr>\n",
       "      <th>3</th>\n",
       "      <td>a degree</td>\n",
       "      <td>9</td>\n",
       "    </tr>\n",
       "    <tr>\n",
       "      <th>4</th>\n",
       "      <td>what</td>\n",
       "      <td>187</td>\n",
       "    </tr>\n",
       "  </tbody>\n",
       "</table>\n",
       "</div>"
      ],
      "text/plain": [
       "               text  fre\n",
       "0                 i  705\n",
       "1  a data scientist  356\n",
       "2           college    6\n",
       "3          a degree    9\n",
       "4              what  187"
      ]
     },
     "execution_count": 82,
     "metadata": {},
     "output_type": "execute_result"
    }
   ],
   "source": [
    "word_list = [x.lower() for x in word_list]\n",
    "counter = Counter(word_list)\n",
    "word_frequents = pd.DataFrame(counter.items(), columns = ['text', 'fre'])\n",
    "word_frequents.head()"
   ]
  },
  {
   "cell_type": "code",
   "execution_count": 83,
   "metadata": {},
   "outputs": [
    {
     "data": {
      "text/html": [
       "<div>\n",
       "<style scoped>\n",
       "    .dataframe tbody tr th:only-of-type {\n",
       "        vertical-align: middle;\n",
       "    }\n",
       "\n",
       "    .dataframe tbody tr th {\n",
       "        vertical-align: top;\n",
       "    }\n",
       "\n",
       "    .dataframe thead th {\n",
       "        text-align: right;\n",
       "    }\n",
       "</style>\n",
       "<table border=\"1\" class=\"dataframe\">\n",
       "  <thead>\n",
       "    <tr style=\"text-align: right;\">\n",
       "      <th></th>\n",
       "      <th>text</th>\n",
       "      <th>fre</th>\n",
       "    </tr>\n",
       "  </thead>\n",
       "  <tbody>\n",
       "    <tr>\n",
       "      <th>0</th>\n",
       "      <td>i</td>\n",
       "      <td>705</td>\n",
       "    </tr>\n",
       "    <tr>\n",
       "      <th>1</th>\n",
       "      <td>a data scientist</td>\n",
       "      <td>356</td>\n",
       "    </tr>\n",
       "    <tr>\n",
       "      <th>21</th>\n",
       "      <td>data science</td>\n",
       "      <td>188</td>\n",
       "    </tr>\n",
       "    <tr>\n",
       "      <th>4</th>\n",
       "      <td>what</td>\n",
       "      <td>187</td>\n",
       "    </tr>\n",
       "    <tr>\n",
       "      <th>30</th>\n",
       "      <td>it</td>\n",
       "      <td>132</td>\n",
       "    </tr>\n",
       "    <tr>\n",
       "      <th>186</th>\n",
       "      <td>a data engineer</td>\n",
       "      <td>78</td>\n",
       "    </tr>\n",
       "    <tr>\n",
       "      <th>12</th>\n",
       "      <td>you</td>\n",
       "      <td>75</td>\n",
       "    </tr>\n",
       "    <tr>\n",
       "      <th>6</th>\n",
       "      <td>a data analyst</td>\n",
       "      <td>52</td>\n",
       "    </tr>\n",
       "    <tr>\n",
       "      <th>156</th>\n",
       "      <td>data analysis</td>\n",
       "      <td>51</td>\n",
       "    </tr>\n",
       "    <tr>\n",
       "      <th>75</th>\n",
       "      <td>computer science</td>\n",
       "      <td>44</td>\n",
       "    </tr>\n",
       "  </tbody>\n",
       "</table>\n",
       "</div>"
      ],
      "text/plain": [
       "                 text  fre\n",
       "0                   i  705\n",
       "1    a data scientist  356\n",
       "21       data science  188\n",
       "4                what  187\n",
       "30                 it  132\n",
       "186   a data engineer   78\n",
       "12                you   75\n",
       "6      a data analyst   52\n",
       "156     data analysis   51\n",
       "75   computer science   44"
      ]
     },
     "execution_count": 83,
     "metadata": {},
     "output_type": "execute_result"
    }
   ],
   "source": [
    "word_frequents.sort_values(by=['fre'], ascending=False).head(10)"
   ]
  },
  {
   "cell_type": "code",
   "execution_count": 5,
   "metadata": {},
   "outputs": [
    {
     "data": {
      "text/html": [
       "<div>\n",
       "<style scoped>\n",
       "    .dataframe tbody tr th:only-of-type {\n",
       "        vertical-align: middle;\n",
       "    }\n",
       "\n",
       "    .dataframe tbody tr th {\n",
       "        vertical-align: top;\n",
       "    }\n",
       "\n",
       "    .dataframe thead th {\n",
       "        text-align: right;\n",
       "    }\n",
       "</style>\n",
       "<table border=\"1\" class=\"dataframe\">\n",
       "  <thead>\n",
       "    <tr style=\"text-align: right;\">\n",
       "      <th></th>\n",
       "      <th>text</th>\n",
       "      <th>label</th>\n",
       "    </tr>\n",
       "  </thead>\n",
       "  <tbody>\n",
       "    <tr>\n",
       "      <th>0</th>\n",
       "      <td>HTML5</td>\n",
       "      <td>NORP</td>\n",
       "    </tr>\n",
       "    <tr>\n",
       "      <th>1</th>\n",
       "      <td>CSS</td>\n",
       "      <td>ORG</td>\n",
       "    </tr>\n",
       "    <tr>\n",
       "      <th>2</th>\n",
       "      <td>JavaScript</td>\n",
       "      <td>ORG</td>\n",
       "    </tr>\n",
       "    <tr>\n",
       "      <th>3</th>\n",
       "      <td>Bootstrap</td>\n",
       "      <td>PERSON</td>\n",
       "    </tr>\n",
       "    <tr>\n",
       "      <th>4</th>\n",
       "      <td>PHP</td>\n",
       "      <td>ORG</td>\n",
       "    </tr>\n",
       "  </tbody>\n",
       "</table>\n",
       "</div>"
      ],
      "text/plain": [
       "         text   label\n",
       "0       HTML5    NORP\n",
       "1         CSS     ORG\n",
       "2  JavaScript     ORG\n",
       "3   Bootstrap  PERSON\n",
       "4         PHP     ORG"
      ]
     },
     "execution_count": 5,
     "metadata": {},
     "output_type": "execute_result"
    }
   ],
   "source": [
    "entity_df = pd.DataFrame(entities)\n",
    "entity_df.head()"
   ]
  },
  {
   "cell_type": "code",
   "execution_count": 31,
   "metadata": {},
   "outputs": [
    {
     "data": {
      "text/html": [
       "<div>\n",
       "<style scoped>\n",
       "    .dataframe tbody tr th:only-of-type {\n",
       "        vertical-align: middle;\n",
       "    }\n",
       "\n",
       "    .dataframe tbody tr th {\n",
       "        vertical-align: top;\n",
       "    }\n",
       "\n",
       "    .dataframe thead th {\n",
       "        text-align: right;\n",
       "    }\n",
       "</style>\n",
       "<table border=\"1\" class=\"dataframe\">\n",
       "  <thead>\n",
       "    <tr style=\"text-align: right;\">\n",
       "      <th></th>\n",
       "      <th>text</th>\n",
       "      <th>label</th>\n",
       "    </tr>\n",
       "  </thead>\n",
       "  <tbody>\n",
       "    <tr>\n",
       "      <th>333</th>\n",
       "      <td>C++</td>\n",
       "      <td>PERSON</td>\n",
       "    </tr>\n",
       "    <tr>\n",
       "      <th>1943</th>\n",
       "      <td>my b. Tech</td>\n",
       "      <td>PERSON</td>\n",
       "    </tr>\n",
       "    <tr>\n",
       "      <th>1617</th>\n",
       "      <td>Raku</td>\n",
       "      <td>PERSON</td>\n",
       "    </tr>\n",
       "    <tr>\n",
       "      <th>373</th>\n",
       "      <td>Algorithms</td>\n",
       "      <td>PERSON</td>\n",
       "    </tr>\n",
       "    <tr>\n",
       "      <th>803</th>\n",
       "      <td>Java</td>\n",
       "      <td>PERSON</td>\n",
       "    </tr>\n",
       "    <tr>\n",
       "      <th>1611</th>\n",
       "      <td>Django</td>\n",
       "      <td>PERSON</td>\n",
       "    </tr>\n",
       "    <tr>\n",
       "      <th>1754</th>\n",
       "      <td>Django</td>\n",
       "      <td>PERSON</td>\n",
       "    </tr>\n",
       "    <tr>\n",
       "      <th>1632</th>\n",
       "      <td>Gmail</td>\n",
       "      <td>PERSON</td>\n",
       "    </tr>\n",
       "    <tr>\n",
       "      <th>250</th>\n",
       "      <td>Java</td>\n",
       "      <td>PERSON</td>\n",
       "    </tr>\n",
       "    <tr>\n",
       "      <th>1653</th>\n",
       "      <td>Adobe XD</td>\n",
       "      <td>PERSON</td>\n",
       "    </tr>\n",
       "  </tbody>\n",
       "</table>\n",
       "</div>"
      ],
      "text/plain": [
       "            text   label\n",
       "333          C++  PERSON\n",
       "1943  my b. Tech  PERSON\n",
       "1617        Raku  PERSON\n",
       "373   Algorithms  PERSON\n",
       "803         Java  PERSON\n",
       "1611      Django  PERSON\n",
       "1754      Django  PERSON\n",
       "1632       Gmail  PERSON\n",
       "250         Java  PERSON\n",
       "1653    Adobe XD  PERSON"
      ]
     },
     "execution_count": 31,
     "metadata": {},
     "output_type": "execute_result"
    }
   ],
   "source": [
    "entity_df[entity_df.label == \"PERSON\"].sample(n=10)"
   ]
  },
  {
   "cell_type": "code",
   "execution_count": 39,
   "metadata": {},
   "outputs": [
    {
     "data": {
      "text/plain": [
       "ORG            1184\n",
       "DATE            420\n",
       "PERSON          321\n",
       "GPE             192\n",
       "CARDINAL        129\n",
       "NORP            105\n",
       "ORDINAL          66\n",
       "PRODUCT          56\n",
       "WORK_OF_ART      41\n",
       "TIME             25\n",
       "LANGUAGE         20\n",
       "FAC              14\n",
       "LOC               5\n",
       "PERCENT           4\n",
       "MONEY             2\n",
       "QUANTITY          2\n",
       "EVENT             1\n",
       "Name: label, dtype: int64"
      ]
     },
     "execution_count": 39,
     "metadata": {},
     "output_type": "execute_result"
    }
   ],
   "source": [
    "entity_df['label'].value_counts()"
   ]
  },
  {
   "cell_type": "code",
   "execution_count": 75,
   "metadata": {},
   "outputs": [
    {
     "data": {
      "text/plain": [
       "Android       384\n",
       "CSS            74\n",
       "PHP            47\n",
       "JavaScript     42\n",
       "CS             31\n",
       "Data           26\n",
       "Google         19\n",
       "SQL            17\n",
       "B.Tech         13\n",
       "CSE            13\n",
       "WordPress      12\n",
       "MS             11\n",
       "ML             11\n",
       "jQuery         10\n",
       "Microsoft       8\n",
       "AI              8\n",
       "UI/UX           7\n",
       "TTS             7\n",
       "Unity           7\n",
       "Apple           7\n",
       "Name: text, dtype: int64"
      ]
     },
     "execution_count": 75,
     "metadata": {},
     "output_type": "execute_result"
    }
   ],
   "source": [
    "entity_df.loc[entity_df.label == 'ORG', 'text'].value_counts().head(20)"
   ]
  },
  {
   "cell_type": "code",
   "execution_count": 85,
   "metadata": {},
   "outputs": [
    {
     "data": {
      "text/plain": [
       "ORG            264\n",
       "DATE           105\n",
       "GPE             55\n",
       "WORK_OF_ART     35\n",
       "CARDINAL        27\n",
       "PERSON          26\n",
       "ORDINAL         17\n",
       "PRODUCT         15\n",
       "NORP            11\n",
       "TIME             3\n",
       "PERCENT          2\n",
       "LAW              2\n",
       "LOC              2\n",
       "EVENT            1\n",
       "FAC              1\n",
       "Name: label, dtype: int64"
      ]
     },
     "execution_count": 85,
     "metadata": {},
     "output_type": "execute_result"
    }
   ],
   "source": [
    "entity_df['label'].value_counts()"
   ]
  },
  {
   "cell_type": "code",
   "execution_count": 92,
   "metadata": {},
   "outputs": [
    {
     "data": {
      "text/html": [
       "<div>\n",
       "<style scoped>\n",
       "    .dataframe tbody tr th:only-of-type {\n",
       "        vertical-align: middle;\n",
       "    }\n",
       "\n",
       "    .dataframe tbody tr th {\n",
       "        vertical-align: top;\n",
       "    }\n",
       "\n",
       "    .dataframe thead th {\n",
       "        text-align: right;\n",
       "    }\n",
       "</style>\n",
       "<table border=\"1\" class=\"dataframe\">\n",
       "  <thead>\n",
       "    <tr style=\"text-align: right;\">\n",
       "      <th></th>\n",
       "      <th>text</th>\n",
       "      <th>label</th>\n",
       "    </tr>\n",
       "  </thead>\n",
       "  <tbody>\n",
       "    <tr>\n",
       "      <th>461</th>\n",
       "      <td>AI</td>\n",
       "      <td>ORG</td>\n",
       "    </tr>\n",
       "    <tr>\n",
       "      <th>565</th>\n",
       "      <td>Econometrician</td>\n",
       "      <td>NORP</td>\n",
       "    </tr>\n",
       "    <tr>\n",
       "      <th>502</th>\n",
       "      <td>an Applied Math:</td>\n",
       "      <td>WORK_OF_ART</td>\n",
       "    </tr>\n",
       "    <tr>\n",
       "      <th>41</th>\n",
       "      <td>MSc Computer Science</td>\n",
       "      <td>PRODUCT</td>\n",
       "    </tr>\n",
       "    <tr>\n",
       "      <th>538</th>\n",
       "      <td>two</td>\n",
       "      <td>CARDINAL</td>\n",
       "    </tr>\n",
       "    <tr>\n",
       "      <th>453</th>\n",
       "      <td>1 year</td>\n",
       "      <td>DATE</td>\n",
       "    </tr>\n",
       "    <tr>\n",
       "      <th>131</th>\n",
       "      <td>34612</td>\n",
       "      <td>CARDINAL</td>\n",
       "    </tr>\n",
       "    <tr>\n",
       "      <th>15</th>\n",
       "      <td>quora</td>\n",
       "      <td>PERSON</td>\n",
       "    </tr>\n",
       "    <tr>\n",
       "      <th>385</th>\n",
       "      <td>BCA</td>\n",
       "      <td>ORG</td>\n",
       "    </tr>\n",
       "    <tr>\n",
       "      <th>143</th>\n",
       "      <td>SQL</td>\n",
       "      <td>ORG</td>\n",
       "    </tr>\n",
       "    <tr>\n",
       "      <th>439</th>\n",
       "      <td>A.I.</td>\n",
       "      <td>GPE</td>\n",
       "    </tr>\n",
       "    <tr>\n",
       "      <th>119</th>\n",
       "      <td>scripts &amp; SQL</td>\n",
       "      <td>ORG</td>\n",
       "    </tr>\n",
       "    <tr>\n",
       "      <th>415</th>\n",
       "      <td>PhD</td>\n",
       "      <td>WORK_OF_ART</td>\n",
       "    </tr>\n",
       "    <tr>\n",
       "      <th>310</th>\n",
       "      <td>Data Science &amp; QA Management</td>\n",
       "      <td>ORG</td>\n",
       "    </tr>\n",
       "    <tr>\n",
       "      <th>216</th>\n",
       "      <td>CS</td>\n",
       "      <td>GPE</td>\n",
       "    </tr>\n",
       "    <tr>\n",
       "      <th>322</th>\n",
       "      <td>PhD</td>\n",
       "      <td>WORK_OF_ART</td>\n",
       "    </tr>\n",
       "    <tr>\n",
       "      <th>202</th>\n",
       "      <td>200</td>\n",
       "      <td>CARDINAL</td>\n",
       "    </tr>\n",
       "    <tr>\n",
       "      <th>386</th>\n",
       "      <td>one year</td>\n",
       "      <td>DATE</td>\n",
       "    </tr>\n",
       "    <tr>\n",
       "      <th>39</th>\n",
       "      <td>Will Swift</td>\n",
       "      <td>PERSON</td>\n",
       "    </tr>\n",
       "    <tr>\n",
       "      <th>390</th>\n",
       "      <td>PhD</td>\n",
       "      <td>WORK_OF_ART</td>\n",
       "    </tr>\n",
       "  </tbody>\n",
       "</table>\n",
       "</div>"
      ],
      "text/plain": [
       "                             text        label\n",
       "461                            AI          ORG\n",
       "565                Econometrician         NORP\n",
       "502              an Applied Math:  WORK_OF_ART\n",
       "41           MSc Computer Science      PRODUCT\n",
       "538                           two     CARDINAL\n",
       "453                        1 year         DATE\n",
       "131                         34612     CARDINAL\n",
       "15                          quora       PERSON\n",
       "385                           BCA          ORG\n",
       "143                           SQL          ORG\n",
       "439                          A.I.          GPE\n",
       "119                 scripts & SQL          ORG\n",
       "415                           PhD  WORK_OF_ART\n",
       "310  Data Science & QA Management          ORG\n",
       "216                            CS          GPE\n",
       "322                           PhD  WORK_OF_ART\n",
       "202                           200     CARDINAL\n",
       "386                      one year         DATE\n",
       "39                     Will Swift       PERSON\n",
       "390                           PhD  WORK_OF_ART"
      ]
     },
     "execution_count": 92,
     "metadata": {},
     "output_type": "execute_result"
    }
   ],
   "source": [
    "entity_df.sample(n=20)"
   ]
  },
  {
   "cell_type": "code",
   "execution_count": 88,
   "metadata": {},
   "outputs": [
    {
     "data": {
      "text/html": [
       "<div>\n",
       "<style scoped>\n",
       "    .dataframe tbody tr th:only-of-type {\n",
       "        vertical-align: middle;\n",
       "    }\n",
       "\n",
       "    .dataframe tbody tr th {\n",
       "        vertical-align: top;\n",
       "    }\n",
       "\n",
       "    .dataframe thead th {\n",
       "        text-align: right;\n",
       "    }\n",
       "</style>\n",
       "<table border=\"1\" class=\"dataframe\">\n",
       "  <thead>\n",
       "    <tr style=\"text-align: right;\">\n",
       "      <th></th>\n",
       "      <th>text</th>\n",
       "      <th>label</th>\n",
       "    </tr>\n",
       "  </thead>\n",
       "  <tbody>\n",
       "    <tr>\n",
       "      <th>280</th>\n",
       "      <td>6 months</td>\n",
       "      <td>DATE</td>\n",
       "    </tr>\n",
       "    <tr>\n",
       "      <th>416</th>\n",
       "      <td>3 years</td>\n",
       "      <td>DATE</td>\n",
       "    </tr>\n",
       "    <tr>\n",
       "      <th>386</th>\n",
       "      <td>one year</td>\n",
       "      <td>DATE</td>\n",
       "    </tr>\n",
       "    <tr>\n",
       "      <th>254</th>\n",
       "      <td>the 2nd year</td>\n",
       "      <td>DATE</td>\n",
       "    </tr>\n",
       "    <tr>\n",
       "      <th>455</th>\n",
       "      <td>3-4 years</td>\n",
       "      <td>DATE</td>\n",
       "    </tr>\n",
       "    <tr>\n",
       "      <th>499</th>\n",
       "      <td>2020</td>\n",
       "      <td>DATE</td>\n",
       "    </tr>\n",
       "    <tr>\n",
       "      <th>389</th>\n",
       "      <td>34 year old</td>\n",
       "      <td>DATE</td>\n",
       "    </tr>\n",
       "    <tr>\n",
       "      <th>441</th>\n",
       "      <td>1st year</td>\n",
       "      <td>DATE</td>\n",
       "    </tr>\n",
       "    <tr>\n",
       "      <th>383</th>\n",
       "      <td>2024</td>\n",
       "      <td>DATE</td>\n",
       "    </tr>\n",
       "    <tr>\n",
       "      <th>529</th>\n",
       "      <td>more than 10 years</td>\n",
       "      <td>DATE</td>\n",
       "    </tr>\n",
       "    <tr>\n",
       "      <th>452</th>\n",
       "      <td>2 years</td>\n",
       "      <td>DATE</td>\n",
       "    </tr>\n",
       "    <tr>\n",
       "      <th>267</th>\n",
       "      <td>4 years</td>\n",
       "      <td>DATE</td>\n",
       "    </tr>\n",
       "    <tr>\n",
       "      <th>429</th>\n",
       "      <td>2 years</td>\n",
       "      <td>DATE</td>\n",
       "    </tr>\n",
       "    <tr>\n",
       "      <th>241</th>\n",
       "      <td>(3rd year</td>\n",
       "      <td>DATE</td>\n",
       "    </tr>\n",
       "    <tr>\n",
       "      <th>123</th>\n",
       "      <td>5 years</td>\n",
       "      <td>DATE</td>\n",
       "    </tr>\n",
       "    <tr>\n",
       "      <th>245</th>\n",
       "      <td>12th</td>\n",
       "      <td>DATE</td>\n",
       "    </tr>\n",
       "    <tr>\n",
       "      <th>460</th>\n",
       "      <td>one year</td>\n",
       "      <td>DATE</td>\n",
       "    </tr>\n",
       "    <tr>\n",
       "      <th>188</th>\n",
       "      <td>around 15 years</td>\n",
       "      <td>DATE</td>\n",
       "    </tr>\n",
       "    <tr>\n",
       "      <th>110</th>\n",
       "      <td>mid 30s</td>\n",
       "      <td>DATE</td>\n",
       "    </tr>\n",
       "    <tr>\n",
       "      <th>164</th>\n",
       "      <td>the coming 2-3 years</td>\n",
       "      <td>DATE</td>\n",
       "    </tr>\n",
       "  </tbody>\n",
       "</table>\n",
       "</div>"
      ],
      "text/plain": [
       "                     text label\n",
       "280              6 months  DATE\n",
       "416               3 years  DATE\n",
       "386              one year  DATE\n",
       "254          the 2nd year  DATE\n",
       "455             3-4 years  DATE\n",
       "499                  2020  DATE\n",
       "389           34 year old  DATE\n",
       "441              1st year  DATE\n",
       "383                  2024  DATE\n",
       "529    more than 10 years  DATE\n",
       "452               2 years  DATE\n",
       "267               4 years  DATE\n",
       "429               2 years  DATE\n",
       "241             (3rd year  DATE\n",
       "123               5 years  DATE\n",
       "245                  12th  DATE\n",
       "460              one year  DATE\n",
       "188       around 15 years  DATE\n",
       "110               mid 30s  DATE\n",
       "164  the coming 2-3 years  DATE"
      ]
     },
     "execution_count": 88,
     "metadata": {},
     "output_type": "execute_result"
    }
   ],
   "source": [
    "entity_df[entity_df.label == 'DATE'].sample(n=20)"
   ]
  },
  {
   "cell_type": "code",
   "execution_count": null,
   "metadata": {},
   "outputs": [],
   "source": []
  }
 ],
 "metadata": {
  "kernelspec": {
   "display_name": "Python 3",
   "language": "python",
   "name": "python3"
  },
  "language_info": {
   "codemirror_mode": {
    "name": "ipython",
    "version": 3
   },
   "file_extension": ".py",
   "mimetype": "text/x-python",
   "name": "python",
   "nbconvert_exporter": "python",
   "pygments_lexer": "ipython3",
   "version": "3.7.6"
  }
 },
 "nbformat": 4,
 "nbformat_minor": 4
}
